{
  "nbformat": 4,
  "nbformat_minor": 0,
  "metadata": {
    "colab": {
      "provenance": []
    },
    "kernelspec": {
      "name": "python3",
      "display_name": "Python 3"
    },
    "language_info": {
      "name": "python"
    }
  },
  "cells": [
    {
      "cell_type": "markdown",
      "source": [
        "**Import The Libraries.**"
      ],
      "metadata": {
        "id": "SnlhuWGS_hfp"
      }
    },
    {
      "cell_type": "code",
      "execution_count": 20,
      "metadata": {
        "id": "QEl1lZm9_C7U"
      },
      "outputs": [],
      "source": [
        "import numpy as np\n",
        "import matplotlib.pyplot as plt\n",
        "import seaborn as sns\n",
        "import cv2\n",
        "from google.colab.patches import cv2_imshow\n",
        "from PIL import Image\n",
        "import tensorflow as tf\n",
        "tf.random.set_seed(3)\n",
        "from tensorflow import keras\n",
        "from keras.datasets import mnist\n",
        "from tensorflow.math import confusion_matrix"
      ]
    },
    {
      "cell_type": "markdown",
      "source": [
        "**Import the MNIST data.**"
      ],
      "metadata": {
        "id": "6fRGGTsbBKkC"
      }
    },
    {
      "cell_type": "code",
      "source": [
        "(X_train, Y_train), (X_test, Y_test) = mnist.load_data()"
      ],
      "metadata": {
        "colab": {
          "base_uri": "https://localhost:8080/"
        },
        "id": "PQte0UH5Aqmi",
        "outputId": "adcbe571-67ac-4ca2-bb31-e43579a22fbc"
      },
      "execution_count": 2,
      "outputs": [
        {
          "output_type": "stream",
          "name": "stdout",
          "text": [
            "Downloading data from https://storage.googleapis.com/tensorflow/tf-keras-datasets/mnist.npz\n",
            "11490434/11490434 [==============================] - 0s 0us/step\n"
          ]
        }
      ]
    },
    {
      "cell_type": "code",
      "source": [
        "print((X_train.shape, Y_train.shape), (X_test.shape, Y_test.shape))"
      ],
      "metadata": {
        "colab": {
          "base_uri": "https://localhost:8080/"
        },
        "id": "1NZXjgTxBygA",
        "outputId": "1ed7c1e7-be3b-48f6-e61e-7ac6f83ebe6b"
      },
      "execution_count": 3,
      "outputs": [
        {
          "output_type": "stream",
          "name": "stdout",
          "text": [
            "((60000, 28, 28), (60000,)) ((10000, 28, 28), (10000,))\n"
          ]
        }
      ]
    },
    {
      "cell_type": "markdown",
      "source": [
        "1. Training data = 60,000 images\n",
        "\n",
        "2. Test data = 10,000 images\n",
        "\n",
        "3. Image dim = 28x28"
      ],
      "metadata": {
        "id": "e2-gakxnCcV0"
      }
    },
    {
      "cell_type": "markdown",
      "source": [
        "**Display the image.**"
      ],
      "metadata": {
        "id": "XVY2cIP2Dw9X"
      }
    },
    {
      "cell_type": "markdown",
      "source": [
        "****"
      ],
      "metadata": {
        "id": "KJCFJux8DtZN"
      }
    },
    {
      "cell_type": "code",
      "source": [
        "plt.imshow(X_train[50])\n",
        "plt.show()"
      ],
      "metadata": {
        "colab": {
          "base_uri": "https://localhost:8080/",
          "height": 430
        },
        "id": "GZW_bBTJCInL",
        "outputId": "a389f838-2205-462b-a6ef-f9ab056c8451"
      },
      "execution_count": 4,
      "outputs": [
        {
          "output_type": "display_data",
          "data": {
            "text/plain": [
              "<Figure size 640x480 with 1 Axes>"
            ],
            "image/png": "[encoded data removed]"
          },
          "metadata": {}
        }
      ]
    },
    {
      "cell_type": "code",
      "source": [
        "plt.imshow(X_train[25])\n",
        "plt.show()"
      ],
      "metadata": {
        "colab": {
          "base_uri": "https://localhost:8080/",
          "height": 430
        },
        "id": "YGJDqNL6DmT7",
        "outputId": "d80935f2-1583-4bb0-93e0-d16e5db22e58"
      },
      "execution_count": 5,
      "outputs": [
        {
          "output_type": "display_data",
          "data": {
            "text/plain": [
              "<Figure size 640x480 with 1 Axes>"
            ],
            "image/png": "[encoded data removed]"
          },
          "metadata": {}
        }
      ]
    },
    {
      "cell_type": "code",
      "source": [
        "#Scaling the values.\n",
        "X_train = X_train/255\n",
        "X_test = X_test/255"
      ],
      "metadata": {
        "id": "e7sSkB_8D7qT"
      },
      "execution_count": 6,
      "outputs": []
    },
    {
      "cell_type": "markdown",
      "source": [
        "**Building The Neural Network.**"
      ],
      "metadata": {
        "id": "FUXLrRnqFvio"
      }
    },
    {
      "cell_type": "code",
      "source": [
        "from keras.api._v2.keras import activations\n",
        "model = keras.Sequential(\n",
        "    [\n",
        "        keras.layers.Flatten(input_shape=(28,28)),\n",
        "        keras.layers.Dense(50, activation = 'relu'),\n",
        "        keras.layers.Dense(50, activation = 'relu'),\n",
        "        keras.layers.Dense(10, activation = 'sigmoid'),\n",
        "    ]\n",
        ")"
      ],
      "metadata": {
        "id": "O3nbwc0VFjIg"
      },
      "execution_count": 7,
      "outputs": []
    },
    {
      "cell_type": "code",
      "source": [
        "#Compiling the model.\n",
        "model.compile(optimizer='adam', loss='sparse_categorical_crossentropy', metrics=['accuracy'])"
      ],
      "metadata": {
        "id": "s-kcmtxEFGfx"
      },
      "execution_count": 8,
      "outputs": []
    },
    {
      "cell_type": "code",
      "source": [
        "#Training the Neural network model.\n",
        "model.fit(X_train, Y_train, epochs = 10)"
      ],
      "metadata": {
        "colab": {
          "base_uri": "https://localhost:8080/"
        },
        "id": "U2oJnOW5vOM9",
        "outputId": "834e90bc-1bce-4a73-8e04-f2551237ad17"
      },
      "execution_count": 9,
      "outputs": [
        {
          "output_type": "stream",
          "name": "stdout",
          "text": [
            "Epoch 1/10\n",
            "1875/1875 [==============================] - 6s 3ms/step - loss: 0.2969 - accuracy: 0.9136\n",
            "Epoch 2/10\n",
            "1875/1875 [==============================] - 4s 2ms/step - loss: 0.1399 - accuracy: 0.9579\n",
            "Epoch 3/10\n",
            "1875/1875 [==============================] - 4s 2ms/step - loss: 0.1030 - accuracy: 0.9692\n",
            "Epoch 4/10\n",
            "1875/1875 [==============================] - 5s 3ms/step - loss: 0.0841 - accuracy: 0.9740\n",
            "Epoch 5/10\n",
            "1875/1875 [==============================] - 4s 2ms/step - loss: 0.0689 - accuracy: 0.9791\n",
            "Epoch 6/10\n",
            "1875/1875 [==============================] - 4s 2ms/step - loss: 0.0591 - accuracy: 0.9816\n",
            "Epoch 7/10\n",
            "1875/1875 [==============================] - 5s 3ms/step - loss: 0.0520 - accuracy: 0.9831\n",
            "Epoch 8/10\n",
            "1875/1875 [==============================] - 4s 2ms/step - loss: 0.0453 - accuracy: 0.9858\n",
            "Epoch 9/10\n",
            "1875/1875 [==============================] - 4s 2ms/step - loss: 0.0400 - accuracy: 0.9867\n",
            "Epoch 10/10\n",
            "1875/1875 [==============================] - 5s 3ms/step - loss: 0.0352 - accuracy: 0.9880\n"
          ]
        },
        {
          "output_type": "execute_result",
          "data": {
            "text/plain": [
              "<keras.callbacks.History at 0x7f8851c33610>"
            ]
          },
          "metadata": {},
          "execution_count": 9
        }
      ]
    },
    {
      "cell_type": "code",
      "source": [
        "#Evalute the model.\n",
        "loss, accuracy = model.evaluate(X_test, Y_test)"
      ],
      "metadata": {
        "colab": {
          "base_uri": "https://localhost:8080/"
        },
        "id": "OXzPwyJxvkvs",
        "outputId": "599ae80f-c4b0-40eb-88c3-a1bf4bff42fa"
      },
      "execution_count": 10,
      "outputs": [
        {
          "output_type": "stream",
          "name": "stdout",
          "text": [
            "313/313 [==============================] - 1s 3ms/step - loss: 0.0954 - accuracy: 0.9749\n"
          ]
        }
      ]
    },
    {
      "cell_type": "code",
      "source": [
        "#Print the first data in X_test.\n",
        "plt.imshow(X_test[0])\n",
        "plt.show()"
      ],
      "metadata": {
        "colab": {
          "base_uri": "https://localhost:8080/",
          "height": 430
        },
        "id": "MQuy9tclwJKD",
        "outputId": "f25d3c94-aa02-4f7e-b058-2013b3cd574f"
      },
      "execution_count": 12,
      "outputs": [
        {
          "output_type": "display_data",
          "data": {
            "text/plain": [
              "<Figure size 640x480 with 1 Axes>"
            ],
            "image/png": "[encoded data removed]"
          },
          "metadata": {}
        }
      ]
    },
    {
      "cell_type": "code",
      "source": [
        "Y_pred = model.predict(X_test)"
      ],
      "metadata": {
        "colab": {
          "base_uri": "https://localhost:8080/"
        },
        "id": "eBwRj25Cwed_",
        "outputId": "e3cf64fd-ce5c-4b16-e640-73d9c01c4bcd"
      },
      "execution_count": 13,
      "outputs": [
        {
          "output_type": "stream",
          "name": "stdout",
          "text": [
            "313/313 [==============================] - 1s 2ms/step\n"
          ]
        }
      ]
    },
    {
      "cell_type": "code",
      "source": [
        "print(Y_pred[0])"
      ],
      "metadata": {
        "colab": {
          "base_uri": "https://localhost:8080/"
        },
        "id": "pD_IU8J8wtUz",
        "outputId": "0f97ec1b-a694-40d6-d13e-dfb45daaaf1e"
      },
      "execution_count": 15,
      "outputs": [
        {
          "output_type": "stream",
          "name": "stdout",
          "text": [
            "[4.8840474e-03 4.7899859e-05 1.4167140e-01 6.1029369e-01 3.7916836e-06\n",
            " 7.1739097e-04 1.7976910e-07 9.9997771e-01 2.5245118e-01 3.0967633e-03]\n"
          ]
        }
      ]
    },
    {
      "cell_type": "code",
      "source": [
        "label_for_first_image = np.argmax(Y_pred[0])\n",
        "print(label_for_first_image)"
      ],
      "metadata": {
        "colab": {
          "base_uri": "https://localhost:8080/"
        },
        "id": "SjoRlLmSxDp9",
        "outputId": "ff178b8b-51bd-4e4c-b336-0b6c7c42dc7f"
      },
      "execution_count": 16,
      "outputs": [
        {
          "output_type": "stream",
          "name": "stdout",
          "text": [
            "7\n"
          ]
        }
      ]
    },
    {
      "cell_type": "code",
      "source": [
        "Y_pred_labels = [np.argmax(i) for i in Y_pred]"
      ],
      "metadata": {
        "id": "QS5ADwF6xW6Y"
      },
      "execution_count": 17,
      "outputs": []
    },
    {
      "cell_type": "markdown",
      "source": [
        "**Confusion Matrix.**"
      ],
      "metadata": {
        "id": "FpYajgz3x2mF"
      }
    },
    {
      "cell_type": "code",
      "source": [
        "conf_matrix = confusion_matrix(Y_test, Y_pred_labels)\n",
        "print(conf_matrix)"
      ],
      "metadata": {
        "colab": {
          "base_uri": "https://localhost:8080/"
        },
        "id": "O5xIGph7x1wL",
        "outputId": "c4119cda-7a1b-4c9e-bc2a-fb8ac8f5d43f"
      },
      "execution_count": 19,
      "outputs": [
        {
          "output_type": "stream",
          "name": "stdout",
          "text": [
            "tf.Tensor(\n",
            "[[ 963    0    2    1    1    1    6    2    3    1]\n",
            " [   0 1123    2    1    0    3    3    1    2    0]\n",
            " [   4    3  997    3    3    4    4    5    9    0]\n",
            " [   0    0    4  983    0    8    1    4    4    6]\n",
            " [   0    2    5    0  956    0    4    4    1   10]\n",
            " [   2    0    0    9    1  872    3    1    3    1]\n",
            " [   4    2    1    1    1    9  939    0    0    1]\n",
            " [   1    7    6    1    2    0    0 1000    5    6]\n",
            " [   3    1    3    4    3   11    1    3  942    3]\n",
            " [   0    3    0    5    8    5    3    4   10  971]], shape=(10, 10), dtype=int32)\n"
          ]
        }
      ]
    },
    {
      "cell_type": "code",
      "source": [
        "plt.figure(figsize=(15,7))\n",
        "sns.heatmap(conf_matrix, annot=True, fmt='d', cmap='Blues')\n",
        "plt.ylabel('True labels')\n",
        "plt.xlabel('predicted labels')"
      ],
      "metadata": {
        "colab": {
          "base_uri": "https://localhost:8080/",
          "height": 628
        },
        "id": "QJfQIbEPx01D",
        "outputId": "be37522c-7c53-46a0-8d98-0faadd4e7961"
      },
      "execution_count": 22,
      "outputs": [
        {
          "output_type": "execute_result",
          "data": {
            "text/plain": [
              "Text(0.5, 47.7222222222222, 'predicted labels')"
            ]
          },
          "metadata": {},
          "execution_count": 22
        },
        {
          "output_type": "display_data",
          "data": {
            "text/plain": [
              "<Figure size 1500x700 with 2 Axes>"
            ],
            "image/png": "[encoded data removed]"
          },
          "metadata": {}
        }
      ]
    },
    {
      "cell_type": "markdown",
      "source": [
        "**Build a Predictive System.**"
      ],
      "metadata": {
        "id": "Ae7EQxoy0G2m"
      }
    },
    {
      "cell_type": "code",
      "source": [
        "input_image_path = '/content/MNIST_digit.png'\n",
        "input_image = cv2.imread(input_image_path)"
      ],
      "metadata": {
        "id": "6MB6rtuKzcZ3"
      },
      "execution_count": 23,
      "outputs": []
    },
    {
      "cell_type": "code",
      "source": [
        "cv2_imshow(input_image)"
      ],
      "metadata": {
        "colab": {
          "base_uri": "https://localhost:8080/",
          "height": 335
        },
        "id": "GHLtCaxR1bCp",
        "outputId": "9a7c4987-5163-42cf-be2e-a1606f95f3d9"
      },
      "execution_count": 24,
      "outputs": [
        {
          "output_type": "display_data",
          "data": {
            "text/plain": [
              "<PIL.Image.Image image mode=RGB size=318x318>"
            ],
            "image/png": "[encoded data removed]"
          },
          "metadata": {}
        }
      ]
    },
    {
      "cell_type": "code",
      "source": [
        "input_image.shape"
      ],
      "metadata": {
        "colab": {
          "base_uri": "https://localhost:8080/"
        },
        "id": "3xD2mQV21nKw",
        "outputId": "c4556805-dc6a-42a1-cda2-e6fd5fd8a69f"
      },
      "execution_count": 25,
      "outputs": [
        {
          "output_type": "execute_result",
          "data": {
            "text/plain": [
              "(318, 318, 3)"
            ]
          },
          "metadata": {},
          "execution_count": 25
        }
      ]
    },
    {
      "cell_type": "code",
      "source": [
        "grayscale = cv2.cvtColor(input_image, cv2.COLOR_RGB2GRAY)\n",
        "grayscale.shape"
      ],
      "metadata": {
        "colab": {
          "base_uri": "https://localhost:8080/"
        },
        "id": "Pjr2Tqk21uW0",
        "outputId": "ad4a32ed-c807-43c7-d8be-5cb74f5df65d"
      },
      "execution_count": 27,
      "outputs": [
        {
          "output_type": "execute_result",
          "data": {
            "text/plain": [
              "(318, 318)"
            ]
          },
          "metadata": {},
          "execution_count": 27
        }
      ]
    },
    {
      "cell_type": "code",
      "source": [
        "#Resize the input image.\n",
        "resized_input_image = cv2.resize(grayscale, (28,28))\n",
        "resized_input_image.shape"
      ],
      "metadata": {
        "colab": {
          "base_uri": "https://localhost:8080/"
        },
        "id": "Z7RBbI8p2M9P",
        "outputId": "5ad829b3-ef3e-4397-eed6-4e85293e373a"
      },
      "execution_count": 30,
      "outputs": [
        {
          "output_type": "execute_result",
          "data": {
            "text/plain": [
              "(28, 28)"
            ]
          },
          "metadata": {},
          "execution_count": 30
        }
      ]
    },
    {
      "cell_type": "code",
      "source": [
        "cv2_imshow(resized_input_image)"
      ],
      "metadata": {
        "colab": {
          "base_uri": "https://localhost:8080/",
          "height": 45
        },
        "id": "f5bdktPM3ASR",
        "outputId": "04ba6985-3696-4e63-af01-5bf2aa61e43c"
      },
      "execution_count": 29,
      "outputs": [
        {
          "output_type": "display_data",
          "data": {
            "text/plain": [
              "<PIL.Image.Image image mode=L size=28x28>"
            ],
            "image/png": "[encoded data removed]"
          },
          "metadata": {}
        }
      ]
    },
    {
      "cell_type": "code",
      "source": [
        "resized_input_image = resized_input_image/255"
      ],
      "metadata": {
        "id": "JcBHqq7z3J_D"
      },
      "execution_count": 31,
      "outputs": []
    },
    {
      "cell_type": "code",
      "source": [
        "#Reshape the image.\n",
        "image_reshape = np.reshape(resized_input_image, [1,28,28])"
      ],
      "metadata": {
        "id": "L1m8c8S33gJg"
      },
      "execution_count": 32,
      "outputs": []
    },
    {
      "cell_type": "code",
      "source": [
        "prediction = model.predict(image_reshape)\n",
        "prediction_label = np.argmax(prediction)\n",
        "print(prediction_label)"
      ],
      "metadata": {
        "colab": {
          "base_uri": "https://localhost:8080/"
        },
        "id": "k0JlPlUP4VSv",
        "outputId": "8efad70c-1b6d-46ff-dba6-e54060042fb4"
      },
      "execution_count": 34,
      "outputs": [
        {
          "output_type": "stream",
          "name": "stdout",
          "text": [
            "1/1 [==============================] - 0s 29ms/step\n",
            "3\n"
          ]
        }
      ]
    },
    {
      "cell_type": "markdown",
      "source": [
        "**Predictive Model.**"
      ],
      "metadata": {
        "id": "hvLzQmqv4_z6"
      }
    },
    {
      "cell_type": "code",
      "source": [
        "input_image_path = input('Enter the path of image')\n",
        "input_image = cv2.imread(input_image_path)\n",
        "cv2_imshow(input_image)\n",
        "grayscale = cv2.cvtColor(input_image, cv2.COLOR_RGB2GRAY)\n",
        "resized_input_image = cv2.resize(grayscale, (28,28))\n",
        "resized_input_image = resized_input_image/255\n",
        "image_reshape = np.reshape(resized_input_image, [1,28,28])\n",
        "prediction = model.predict(image_reshape)\n",
        "prediction_label = np.argmax(prediction)\n",
        "print(prediction_label)"
      ],
      "metadata": {
        "colab": {
          "base_uri": "https://localhost:8080/",
          "height": 387
        },
        "id": "ETGR7Yty4zMx",
        "outputId": "eaa33286-7e43-45b5-d61e-ea02aaf81328"
      },
      "execution_count": 35,
      "outputs": [
        {
          "name": "stdout",
          "output_type": "stream",
          "text": [
            "Enter the path of image/content/MNIST_digit.png\n"
          ]
        },
        {
          "output_type": "display_data",
          "data": {
            "text/plain": [
              "<PIL.Image.Image image mode=RGB size=318x318>"
            ],
            "image/png": "[encoded data removed]"
          },
          "metadata": {}
        },
        {
          "output_type": "stream",
          "name": "stdout",
          "text": [
            "1/1 [==============================] - 0s 35ms/step\n",
            "3\n"
          ]
        }
      ]
    }
  ]
}